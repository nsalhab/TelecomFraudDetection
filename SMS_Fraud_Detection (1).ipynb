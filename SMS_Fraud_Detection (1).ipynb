{
  "cells": [
    {
      "cell_type": "code",
      "execution_count": 1,
      "metadata": {
        "id": "a-Yjd4EylHUm"
      },
      "outputs": [],
      "source": [
        "import pandas as pd\n",
        "import numpy as np\n",
        "from imblearn.under_sampling import RandomUnderSampler\n",
        "from sklearn.linear_model import LogisticRegression\n",
        "from sklearn.preprocessing import StandardScaler, LabelEncoder\n",
        "from sklearn.svm import SVC\n",
        "from sklearn.neighbors import KNeighborsClassifier\n",
        "from sklearn.tree import DecisionTreeClassifier,plot_tree\n",
        "from sklearn.model_selection import train_test_split,cross_val_score\n",
        "from sklearn.ensemble import RandomForestClassifier, GradientBoostingClassifier, AdaBoostClassifier\n",
        "from sklearn.naive_bayes import GaussianNB\n",
        "from sklearn.compose import ColumnTransformer\n",
        "from sklearn.metrics import accuracy_score, classification_report, confusion_matrix\n",
        "import matplotlib.pyplot as plt\n",
        "import seaborn as sns\n",
        "import nltk, re\n",
        "from nltk.corpus import stopwords\n",
        "from nltk.tokenize import word_tokenize\n",
        "from nltk.stem import WordNetLemmatizer\n",
        "from sklearn.feature_extraction.text import TfidfVectorizer, TfidfTransformer, CountVectorizer\n",
        "from wordcloud import WordCloud, STOPWORDS"
      ]
    },
    {
      "cell_type": "code",
      "execution_count": 2,
      "metadata": {
        "colab": {
          "base_uri": "https://localhost:8080/"
        },
        "id": "AZ72gbf3ldeH",
        "outputId": "f71f085e-328e-472d-daac-ea10ec8c64a5"
      },
      "outputs": [
        {
          "output_type": "stream",
          "name": "stderr",
          "text": [
            "[nltk_data] Downloading package stopwords to /root/nltk_data...\n",
            "[nltk_data]   Unzipping corpora/stopwords.zip.\n",
            "[nltk_data] Downloading package punkt to /root/nltk_data...\n",
            "[nltk_data]   Unzipping tokenizers/punkt.zip.\n",
            "[nltk_data] Downloading package wordnet to /root/nltk_data...\n"
          ]
        },
        {
          "output_type": "execute_result",
          "data": {
            "text/plain": [
              "True"
            ]
          },
          "metadata": {},
          "execution_count": 2
        }
      ],
      "source": [
        "nltk.download('stopwords')\n",
        "nltk.download('punkt')\n",
        "nltk.download('wordnet')"
      ]
    },
    {
      "cell_type": "code",
      "execution_count": 3,
      "metadata": {
        "id": "gRk1Telqlft8"
      },
      "outputs": [],
      "source": [
        "with open('/content/Book1.csv', encoding='utf-8', errors='replace') as f:\n",
        "    data = pd.read_csv(f)"
      ]
    },
    {
      "cell_type": "code",
      "execution_count": 4,
      "metadata": {
        "colab": {
          "base_uri": "https://localhost:8080/"
        },
        "id": "Qr4fNYDfltYF",
        "outputId": "6ce9d6d0-1183-44fa-96e4-742115a43b12"
      },
      "outputs": [
        {
          "output_type": "stream",
          "name": "stdout",
          "text": [
            "<class 'pandas.core.frame.DataFrame'>\n",
            "RangeIndex: 58384 entries, 0 to 58383\n",
            "Data columns (total 6 columns):\n",
            " #   Column              Non-Null Count  Dtype  \n",
            "---  ------              --------------  -----  \n",
            " 0   Client Sender ID    58384 non-null  object \n",
            " 1   Destination number  58384 non-null  float64\n",
            " 2   MCCMNC              58383 non-null  float64\n",
            " 3   Country             58383 non-null  object \n",
            " 4   SMS text            58384 non-null  object \n",
            " 5   Case                58384 non-null  int64  \n",
            "dtypes: float64(2), int64(1), object(3)\n",
            "memory usage: 2.7+ MB\n"
          ]
        }
      ],
      "source": [
        "data.info()"
      ]
    },
    {
      "cell_type": "code",
      "execution_count": 5,
      "metadata": {
        "colab": {
          "base_uri": "https://localhost:8080/",
          "height": 300
        },
        "id": "z17DSTxOmGF2",
        "outputId": "33c0044c-80f4-47e3-a947-5e2c64264e02"
      },
      "outputs": [
        {
          "output_type": "execute_result",
          "data": {
            "text/plain": [
              "       Destination number         MCCMNC          Case\n",
              "count        5.838400e+04   58383.000000  58384.000000\n",
              "mean         2.274377e+11  509808.480106      0.269235\n",
              "std          2.334747e+11  218984.894593      0.443566\n",
              "min          6.452478e+07     208.000000      0.000000\n",
              "25%          2.440000e+11  530003.000000      0.000000\n",
              "50%          2.440000e+11  630086.000000      0.000000\n",
              "75%          2.440000e+11  630089.000000      1.000000\n",
              "max          5.600000e+12  732123.000000      1.000000"
            ],
            "text/html": [
              "\n",
              "\n",
              "  <div id=\"df-1cc00c01-f875-4e3f-bc29-8f8378aab5c5\">\n",
              "    <div class=\"colab-df-container\">\n",
              "      <div>\n",
              "<style scoped>\n",
              "    .dataframe tbody tr th:only-of-type {\n",
              "        vertical-align: middle;\n",
              "    }\n",
              "\n",
              "    .dataframe tbody tr th {\n",
              "        vertical-align: top;\n",
              "    }\n",
              "\n",
              "    .dataframe thead th {\n",
              "        text-align: right;\n",
              "    }\n",
              "</style>\n",
              "<table border=\"1\" class=\"dataframe\">\n",
              "  <thead>\n",
              "    <tr style=\"text-align: right;\">\n",
              "      <th></th>\n",
              "      <th>Destination number</th>\n",
              "      <th>MCCMNC</th>\n",
              "      <th>Case</th>\n",
              "    </tr>\n",
              "  </thead>\n",
              "  <tbody>\n",
              "    <tr>\n",
              "      <th>count</th>\n",
              "      <td>5.838400e+04</td>\n",
              "      <td>58383.000000</td>\n",
              "      <td>58384.000000</td>\n",
              "    </tr>\n",
              "    <tr>\n",
              "      <th>mean</th>\n",
              "      <td>2.274377e+11</td>\n",
              "      <td>509808.480106</td>\n",
              "      <td>0.269235</td>\n",
              "    </tr>\n",
              "    <tr>\n",
              "      <th>std</th>\n",
              "      <td>2.334747e+11</td>\n",
              "      <td>218984.894593</td>\n",
              "      <td>0.443566</td>\n",
              "    </tr>\n",
              "    <tr>\n",
              "      <th>min</th>\n",
              "      <td>6.452478e+07</td>\n",
              "      <td>208.000000</td>\n",
              "      <td>0.000000</td>\n",
              "    </tr>\n",
              "    <tr>\n",
              "      <th>25%</th>\n",
              "      <td>2.440000e+11</td>\n",
              "      <td>530003.000000</td>\n",
              "      <td>0.000000</td>\n",
              "    </tr>\n",
              "    <tr>\n",
              "      <th>50%</th>\n",
              "      <td>2.440000e+11</td>\n",
              "      <td>630086.000000</td>\n",
              "      <td>0.000000</td>\n",
              "    </tr>\n",
              "    <tr>\n",
              "      <th>75%</th>\n",
              "      <td>2.440000e+11</td>\n",
              "      <td>630089.000000</td>\n",
              "      <td>1.000000</td>\n",
              "    </tr>\n",
              "    <tr>\n",
              "      <th>max</th>\n",
              "      <td>5.600000e+12</td>\n",
              "      <td>732123.000000</td>\n",
              "      <td>1.000000</td>\n",
              "    </tr>\n",
              "  </tbody>\n",
              "</table>\n",
              "</div>\n",
              "      <button class=\"colab-df-convert\" onclick=\"convertToInteractive('df-1cc00c01-f875-4e3f-bc29-8f8378aab5c5')\"\n",
              "              title=\"Convert this dataframe to an interactive table.\"\n",
              "              style=\"display:none;\">\n",
              "\n",
              "  <svg xmlns=\"http://www.w3.org/2000/svg\" height=\"24px\"viewBox=\"0 0 24 24\"\n",
              "       width=\"24px\">\n",
              "    <path d=\"M0 0h24v24H0V0z\" fill=\"none\"/>\n",
              "    <path d=\"M18.56 5.44l.94 2.06.94-2.06 2.06-.94-2.06-.94-.94-2.06-.94 2.06-2.06.94zm-11 1L8.5 8.5l.94-2.06 2.06-.94-2.06-.94L8.5 2.5l-.94 2.06-2.06.94zm10 10l.94 2.06.94-2.06 2.06-.94-2.06-.94-.94-2.06-.94 2.06-2.06.94z\"/><path d=\"M17.41 7.96l-1.37-1.37c-.4-.4-.92-.59-1.43-.59-.52 0-1.04.2-1.43.59L10.3 9.45l-7.72 7.72c-.78.78-.78 2.05 0 2.83L4 21.41c.39.39.9.59 1.41.59.51 0 1.02-.2 1.41-.59l7.78-7.78 2.81-2.81c.8-.78.8-2.07 0-2.86zM5.41 20L4 18.59l7.72-7.72 1.47 1.35L5.41 20z\"/>\n",
              "  </svg>\n",
              "      </button>\n",
              "\n",
              "\n",
              "\n",
              "    <div id=\"df-d9d3b3ae-58ef-4adb-b3c8-792cca0fa0f2\">\n",
              "      <button class=\"colab-df-quickchart\" onclick=\"quickchart('df-d9d3b3ae-58ef-4adb-b3c8-792cca0fa0f2')\"\n",
              "              title=\"Suggest charts.\"\n",
              "              style=\"display:none;\">\n",
              "\n",
              "<svg xmlns=\"http://www.w3.org/2000/svg\" height=\"24px\"viewBox=\"0 0 24 24\"\n",
              "     width=\"24px\">\n",
              "    <g>\n",
              "        <path d=\"M19 3H5c-1.1 0-2 .9-2 2v14c0 1.1.9 2 2 2h14c1.1 0 2-.9 2-2V5c0-1.1-.9-2-2-2zM9 17H7v-7h2v7zm4 0h-2V7h2v10zm4 0h-2v-4h2v4z\"/>\n",
              "    </g>\n",
              "</svg>\n",
              "      </button>\n",
              "    </div>\n",
              "\n",
              "<style>\n",
              "  .colab-df-quickchart {\n",
              "    background-color: #E8F0FE;\n",
              "    border: none;\n",
              "    border-radius: 50%;\n",
              "    cursor: pointer;\n",
              "    display: none;\n",
              "    fill: #1967D2;\n",
              "    height: 32px;\n",
              "    padding: 0 0 0 0;\n",
              "    width: 32px;\n",
              "  }\n",
              "\n",
              "  .colab-df-quickchart:hover {\n",
              "    background-color: #E2EBFA;\n",
              "    box-shadow: 0px 1px 2px rgba(60, 64, 67, 0.3), 0px 1px 3px 1px rgba(60, 64, 67, 0.15);\n",
              "    fill: #174EA6;\n",
              "  }\n",
              "\n",
              "  [theme=dark] .colab-df-quickchart {\n",
              "    background-color: #3B4455;\n",
              "    fill: #D2E3FC;\n",
              "  }\n",
              "\n",
              "  [theme=dark] .colab-df-quickchart:hover {\n",
              "    background-color: #434B5C;\n",
              "    box-shadow: 0px 1px 3px 1px rgba(0, 0, 0, 0.15);\n",
              "    filter: drop-shadow(0px 1px 2px rgba(0, 0, 0, 0.3));\n",
              "    fill: #FFFFFF;\n",
              "  }\n",
              "</style>\n",
              "\n",
              "    <script>\n",
              "      async function quickchart(key) {\n",
              "        const containerElement = document.querySelector('#' + key);\n",
              "        const charts = await google.colab.kernel.invokeFunction(\n",
              "            'suggestCharts', [key], {});\n",
              "      }\n",
              "    </script>\n",
              "\n",
              "\n",
              "      <script>\n",
              "\n",
              "function displayQuickchartButton(domScope) {\n",
              "  let quickchartButtonEl =\n",
              "    domScope.querySelector('#df-d9d3b3ae-58ef-4adb-b3c8-792cca0fa0f2 button.colab-df-quickchart');\n",
              "  quickchartButtonEl.style.display =\n",
              "    google.colab.kernel.accessAllowed ? 'block' : 'none';\n",
              "}\n",
              "\n",
              "        displayQuickchartButton(document);\n",
              "      </script>\n",
              "      <style>\n",
              "    .colab-df-container {\n",
              "      display:flex;\n",
              "      flex-wrap:wrap;\n",
              "      gap: 12px;\n",
              "    }\n",
              "\n",
              "    .colab-df-convert {\n",
              "      background-color: #E8F0FE;\n",
              "      border: none;\n",
              "      border-radius: 50%;\n",
              "      cursor: pointer;\n",
              "      display: none;\n",
              "      fill: #1967D2;\n",
              "      height: 32px;\n",
              "      padding: 0 0 0 0;\n",
              "      width: 32px;\n",
              "    }\n",
              "\n",
              "    .colab-df-convert:hover {\n",
              "      background-color: #E2EBFA;\n",
              "      box-shadow: 0px 1px 2px rgba(60, 64, 67, 0.3), 0px 1px 3px 1px rgba(60, 64, 67, 0.15);\n",
              "      fill: #174EA6;\n",
              "    }\n",
              "\n",
              "    [theme=dark] .colab-df-convert {\n",
              "      background-color: #3B4455;\n",
              "      fill: #D2E3FC;\n",
              "    }\n",
              "\n",
              "    [theme=dark] .colab-df-convert:hover {\n",
              "      background-color: #434B5C;\n",
              "      box-shadow: 0px 1px 3px 1px rgba(0, 0, 0, 0.15);\n",
              "      filter: drop-shadow(0px 1px 2px rgba(0, 0, 0, 0.3));\n",
              "      fill: #FFFFFF;\n",
              "    }\n",
              "  </style>\n",
              "\n",
              "      <script>\n",
              "        const buttonEl =\n",
              "          document.querySelector('#df-1cc00c01-f875-4e3f-bc29-8f8378aab5c5 button.colab-df-convert');\n",
              "        buttonEl.style.display =\n",
              "          google.colab.kernel.accessAllowed ? 'block' : 'none';\n",
              "\n",
              "        async function convertToInteractive(key) {\n",
              "          const element = document.querySelector('#df-1cc00c01-f875-4e3f-bc29-8f8378aab5c5');\n",
              "          const dataTable =\n",
              "            await google.colab.kernel.invokeFunction('convertToInteractive',\n",
              "                                                     [key], {});\n",
              "          if (!dataTable) return;\n",
              "\n",
              "          const docLinkHtml = 'Like what you see? Visit the ' +\n",
              "            '<a target=\"_blank\" href=https://colab.research.google.com/notebooks/data_table.ipynb>data table notebook</a>'\n",
              "            + ' to learn more about interactive tables.';\n",
              "          element.innerHTML = '';\n",
              "          dataTable['output_type'] = 'display_data';\n",
              "          await google.colab.output.renderOutput(dataTable, element);\n",
              "          const docLink = document.createElement('div');\n",
              "          docLink.innerHTML = docLinkHtml;\n",
              "          element.appendChild(docLink);\n",
              "        }\n",
              "      </script>\n",
              "    </div>\n",
              "  </div>\n"
            ]
          },
          "metadata": {},
          "execution_count": 5
        }
      ],
      "source": [
        "data.describe()"
      ]
    },
    {
      "cell_type": "code",
      "execution_count": 6,
      "metadata": {
        "colab": {
          "base_uri": "https://localhost:8080/"
        },
        "id": "JWlIaFCRmwWe",
        "outputId": "2a6761b3-2a0f-4f8a-eeb2-36ee8b1a4cca"
      },
      "outputs": [
        {
          "output_type": "execute_result",
          "data": {
            "text/plain": [
              "Client Sender ID      0\n",
              "Destination number    0\n",
              "MCCMNC                1\n",
              "Country               1\n",
              "SMS text              0\n",
              "Case                  0\n",
              "dtype: int64"
            ]
          },
          "metadata": {},
          "execution_count": 6
        }
      ],
      "source": [
        "data.isna().sum()"
      ]
    },
    {
      "cell_type": "code",
      "execution_count": 7,
      "metadata": {
        "id": "-QFji-q6myqk"
      },
      "outputs": [],
      "source": [
        "data= data.dropna()"
      ]
    },
    {
      "cell_type": "code",
      "execution_count": 8,
      "metadata": {
        "colab": {
          "base_uri": "https://localhost:8080/"
        },
        "id": "luv1IKzDlwDt",
        "outputId": "0bcd9e99-5335-4b4a-c8e2-199704d06aea"
      },
      "outputs": [
        {
          "output_type": "stream",
          "name": "stdout",
          "text": [
            "5532\n"
          ]
        }
      ],
      "source": [
        "dup= data.duplicated().sum()\n",
        "print(dup)"
      ]
    },
    {
      "cell_type": "code",
      "execution_count": 9,
      "metadata": {
        "id": "5PDpcxbXl0v9"
      },
      "outputs": [],
      "source": [
        "data= data.drop_duplicates()"
      ]
    },
    {
      "cell_type": "code",
      "execution_count": 10,
      "metadata": {
        "id": "y5yu4gjol5fA",
        "colab": {
          "base_uri": "https://localhost:8080/"
        },
        "outputId": "95019f51-8757-4722-d598-0f7ade1247aa"
      },
      "outputs": [
        {
          "output_type": "stream",
          "name": "stderr",
          "text": [
            "<ipython-input-10-3f7c58584e57>:1: SettingWithCopyWarning: \n",
            "A value is trying to be set on a copy of a slice from a DataFrame.\n",
            "Try using .loc[row_indexer,col_indexer] = value instead\n",
            "\n",
            "See the caveats in the documentation: https://pandas.pydata.org/pandas-docs/stable/user_guide/indexing.html#returning-a-view-versus-a-copy\n",
            "  data['content']= data['SMS text']+' '+data['Client Sender ID']+' '+data['Country']\n"
          ]
        }
      ],
      "source": [
        "data['content']= data['SMS text']+' '+data['Client Sender ID']+' '+data['Country']\n",
        "fraud_words = ''\n",
        "normal_words = ''\n",
        "common_stopwords = set(STOPWORDS)\n",
        "\n",
        "for val in data[data['Case']==1].content:\n",
        "    tokens = val.split()\n",
        "    lowercase_words= [token.lower() for token in tokens]\n",
        "\n",
        "    processed_text = \" \".join(lowercase_words)\n",
        "    fraud_words += processed_text + \" \"\n",
        "\n",
        "for text in data[data['Case']==0].content:\n",
        "    tokens = val.split()\n",
        "    lowercase_words= [token.lower() for token in tokens]\n",
        "\n",
        "    processed_textt = \" \".join(lowercase_words)\n",
        "    normal_words += processed_textt + \" \""
      ]
    },
    {
      "cell_type": "code",
      "execution_count": null,
      "metadata": {
        "id": "V0OjC4e9m3LD"
      },
      "outputs": [],
      "source": [
        "wordcloud = WordCloud(width = 800, height = 800, background_color ='white').generate(normal_words)\n",
        "\n",
        "plt.figure(figsize = (6, 6))\n",
        "plt.imshow(wordcloud, interpolation='bilinear')\n",
        "plt.axis(\"off\")\n",
        "plt.tight_layout(pad = 0)\n",
        "plt.show()"
      ]
    },
    {
      "cell_type": "code",
      "execution_count": null,
      "metadata": {
        "id": "3-KGciUwm8z8"
      },
      "outputs": [],
      "source": [
        "wordcloud = WordCloud(width = 800, height = 800, background_color ='white').generate(fraud_words)\n",
        "\n",
        "plt.figure(figsize = (6, 6))\n",
        "plt.imshow(wordcloud, interpolation='bilinear')\n",
        "plt.axis(\"off\")\n",
        "plt.tight_layout(pad = 0)\n",
        "plt.show()"
      ]
    },
    {
      "cell_type": "code",
      "execution_count": 13,
      "metadata": {
        "id": "229znX4km-3e"
      },
      "outputs": [],
      "source": [
        "stop_words = stopwords.words('english')"
      ]
    },
    {
      "cell_type": "code",
      "execution_count": 14,
      "metadata": {
        "id": "bo9ZzkG-nCLX"
      },
      "outputs": [],
      "source": [
        "lemmatizer=WordNetLemmatizer()\n",
        "for index, row in data.iterrows():\n",
        "    updated_text = ''\n",
        "\n",
        "    cleaned_text = row['content']\n",
        "    cleaned_text = re.sub(r'[^\\w\\s]', '', cleaned_text)\n",
        "\n",
        "    word_tokens = nltk.word_tokenize(cleaned_text)\n",
        "\n",
        "    word_tokens = [word for word in word_tokens if not word in stop_words]\n",
        "\n",
        "    for word in word_tokens:\n",
        "        updated_text += ' ' + str(lemmatizer.lemmatize(word)).lower()\n",
        "\n",
        "    updated_text= data.loc[index, 'content']"
      ]
    },
    {
      "cell_type": "code",
      "execution_count": 15,
      "metadata": {
        "id": "Q62TrvBvnw7_"
      },
      "outputs": [],
      "source": [
        "data = data[['content','Case']]\n",
        "X_train = data['content']\n",
        "Y_train = data['Case']"
      ]
    },
    {
      "cell_type": "code",
      "execution_count": 16,
      "metadata": {
        "id": "jy4spB-DnQlj"
      },
      "outputs": [],
      "source": [
        "def vectorized_text(features, max_features):\n",
        "  vectorizer= TfidfVectorizer(stop_words='english', decode_error='strict', analyzer='word',\n",
        "                              ngram_range=(1,2), max_features=max_features)\n",
        "  featured_vect= vectorizer.fit_transform(features)\n",
        "  return featured_vect.toarray()"
      ]
    },
    {
      "cell_type": "code",
      "execution_count": 17,
      "metadata": {
        "colab": {
          "base_uri": "https://localhost:8080/"
        },
        "id": "DBLyZKb7nkwJ",
        "outputId": "01ae1f70-db76-43c4-e320-0959ae926cc2"
      },
      "outputs": [
        {
          "output_type": "execute_result",
          "data": {
            "text/plain": [
              "<52851x42189 sparse matrix of type '<class 'numpy.float64'>'\n",
              "\twith 636536 stored elements in Compressed Sparse Row format>"
            ]
          },
          "metadata": {},
          "execution_count": 17
        }
      ],
      "source": [
        "count_vectorizer= CountVectorizer()\n",
        "count_vectorizer.fit_transform(X_train)\n",
        "fmatrix= count_vectorizer.transform(X_train)\n",
        "tf_idf= TfidfTransformer(norm=\"l2\")\n",
        "tf_idf.fit(fmatrix)\n",
        "tfidf_matrix= tf_idf.fit_transform(fmatrix)\n",
        "tfidf_matrix"
      ]
    },
    {
      "cell_type": "code",
      "execution_count": 18,
      "metadata": {
        "id": "IQh38l4_oc4F"
      },
      "outputs": [],
      "source": [
        "X_train, X_test, y_train, y_test = train_test_split(tfidf_matrix, Y_train, test_size= 0.2, random_state=42)"
      ]
    },
    {
      "cell_type": "code",
      "execution_count": 19,
      "metadata": {
        "colab": {
          "base_uri": "https://localhost:8080/"
        },
        "id": "MvAn4_kMorej",
        "outputId": "c20ea1bf-fbd4-435c-c2c0-370352513287"
      },
      "outputs": [
        {
          "output_type": "stream",
          "name": "stdout",
          "text": [
            "Accuracy: 0.9996216062813358\n"
          ]
        }
      ],
      "source": [
        "lr = LogisticRegression()\n",
        "lr.fit(X_train, y_train)\n",
        "pred_lr = lr.predict(X_test)\n",
        "print(\"Accuracy:\", accuracy_score(y_test, pred_lr))"
      ]
    },
    {
      "cell_type": "code",
      "source": [
        "print('Accuracy of Logistic Regression on training data: {:.2f}'.format(lr.score(X_train, y_train)))\n",
        "print('Accuracy of Logistic Regression on testing data: {:.2f}'.format(lr.score(X_test, y_test)))"
      ],
      "metadata": {
        "colab": {
          "base_uri": "https://localhost:8080/"
        },
        "id": "Pcm0cagesRJ4",
        "outputId": "9762818f-8615-481f-f24d-dac7cde3e686"
      },
      "execution_count": 20,
      "outputs": [
        {
          "output_type": "stream",
          "name": "stdout",
          "text": [
            "Accuracy of Logistic Regression on training data: 1.00\n",
            "Accuracy of Logistic Regression on testing data: 1.00\n"
          ]
        }
      ]
    },
    {
      "cell_type": "code",
      "source": [
        "print(classification_report(y_test,pred_lr))"
      ],
      "metadata": {
        "colab": {
          "base_uri": "https://localhost:8080/"
        },
        "id": "9M_uA2hQrUx3",
        "outputId": "226a2db9-ae1b-4e6c-af25-512ff93c3119"
      },
      "execution_count": 21,
      "outputs": [
        {
          "output_type": "stream",
          "name": "stdout",
          "text": [
            "              precision    recall  f1-score   support\n",
            "\n",
            "           0       1.00      1.00      1.00      8095\n",
            "           1       1.00      1.00      1.00      2476\n",
            "\n",
            "    accuracy                           1.00     10571\n",
            "   macro avg       1.00      1.00      1.00     10571\n",
            "weighted avg       1.00      1.00      1.00     10571\n",
            "\n"
          ]
        }
      ]
    },
    {
      "cell_type": "code",
      "source": [
        "cm_lr= confusion_matrix(y_test, pred_lr)\n",
        "print(cm_lr)\n",
        "plt.figure(figsize=(5,5))\n",
        "sns.heatmap(cm_lr, annot=True, cmap= 'plasma', fmt= 'd')\n",
        "plt.title('Confusion Matrix LR')\n",
        "plt.xlabel('Predicted Label')\n",
        "plt.ylabel('True Label')\n",
        "plt.show()"
      ],
      "metadata": {
        "id": "trlYbg-urXL3"
      },
      "execution_count": null,
      "outputs": []
    },
    {
      "cell_type": "markdown",
      "source": [
        "Support Vector Classifier"
      ],
      "metadata": {
        "id": "h7oOxitjrfy6"
      }
    },
    {
      "cell_type": "code",
      "source": [
        "svc= SVC(kernel= 'linear', C=0.001)\n",
        "svc.fit(X_train, y_train)\n",
        "y_pred_svc = svc.predict(X_test)\n",
        "print(accuracy_score(y_test, y_pred_svc))"
      ],
      "metadata": {
        "id": "zgXGsT91rYQF"
      },
      "execution_count": null,
      "outputs": []
    },
    {
      "cell_type": "code",
      "source": [
        "print('Accuracy of Support Vector Classifier on training data: {:.2f}'.format(svc.score(X_train, y_train)))\n",
        "print('Accuracy of Support Vector Classifier on testing data: {:.2f}'.format(svc.score(X_test, y_test)))"
      ],
      "metadata": {
        "colab": {
          "base_uri": "https://localhost:8080/"
        },
        "id": "massI6NksGHU",
        "outputId": "44f67d76-94e2-4985-8771-2a62830e1e1e"
      },
      "execution_count": 24,
      "outputs": [
        {
          "output_type": "stream",
          "name": "stdout",
          "text": [
            "Accuracy of Support Vector Classifier on training data: 0.96\n",
            "Accuracy of Support Vector Classifier on testing data: 0.95\n"
          ]
        }
      ]
    },
    {
      "cell_type": "markdown",
      "source": [
        "Classification Report for Support Vector Classifier"
      ],
      "metadata": {
        "id": "6Bmv1KH5rjFq"
      }
    },
    {
      "cell_type": "code",
      "source": [
        "print(classification_report(y_test,y_pred_svc))"
      ],
      "metadata": {
        "colab": {
          "base_uri": "https://localhost:8080/"
        },
        "id": "zYtR-izKraIz",
        "outputId": "ed653352-0d43-4008-ec28-7ec3d328f7dd"
      },
      "execution_count": 25,
      "outputs": [
        {
          "output_type": "stream",
          "name": "stdout",
          "text": [
            "              precision    recall  f1-score   support\n",
            "\n",
            "           0       0.94      1.00      0.97      8095\n",
            "           1       1.00      0.80      0.89      2476\n",
            "\n",
            "    accuracy                           0.95     10571\n",
            "   macro avg       0.97      0.90      0.93     10571\n",
            "weighted avg       0.96      0.95      0.95     10571\n",
            "\n"
          ]
        }
      ]
    },
    {
      "cell_type": "markdown",
      "source": [
        "Confusion Matrix for Support Vector Classifier"
      ],
      "metadata": {
        "id": "IlCQ4j2mrlve"
      }
    },
    {
      "cell_type": "code",
      "source": [
        "cm_svc = confusion_matrix(y_test, y_pred_svc)\n",
        "print(cm_svc)\n",
        "plt.figure(figsize = (5, 5))\n",
        "sns.heatmap(cm_svc, annot = True, cmap ='plasma', fmt ='d')\n",
        "plt.title('Confusion Matrix SVC')\n",
        "plt.xlabel('PredictedLabel')\n",
        "plt.ylabel('TrueLabel')\n",
        "plt.show()"
      ],
      "metadata": {
        "colab": {
          "base_uri": "https://localhost:8080/",
          "height": 522
        },
        "id": "1hqbVnubrcEC",
        "outputId": "fdbe83cd-a245-47ae-9ec6-a67af57fa03a"
      },
      "execution_count": 26,
      "outputs": [
        {
          "output_type": "stream",
          "name": "stdout",
          "text": [
            "[[8095    0]\n",
            " [ 502 1974]]\n"
          ]
        },
        {
          "output_type": "display_data",
          "data": {
            "text/plain": [
              "<Figure size 500x500 with 2 Axes>"
            ],
            "image/png": "[encoded data removed]"
          },
          "metadata": {}
        }
      ]
    }
  ],
  "metadata": {
    "colab": {
      "provenance": []
    },
    "kernelspec": {
      "display_name": "Python 3",
      "name": "python3"
    },
    "language_info": {
      "name": "python"
    }
  },
  "nbformat": 4,
  "nbformat_minor": 0
}